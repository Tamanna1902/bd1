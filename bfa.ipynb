{
  "nbformat": 4,
  "nbformat_minor": 0,
  "metadata": {
    "colab": {
      "provenance": []
    },
    "kernelspec": {
      "name": "python3",
      "display_name": "Python 3"
    },
    "language_info": {
      "name": "python"
    }
  },
  "cells": [
    {
      "cell_type": "markdown",
      "source": [
        "# Bloom Filter"
      ],
      "metadata": {
        "id": "ooS3REXk7aP9"
      }
    },
    {
      "cell_type": "code",
      "source": [
        "import pandas as pd\n",
        "\n",
        "bit_array = 13\n",
        "bloom_filter = [0] * bit_array\n",
        "hash1 = lambda x: (x + 1) % 13\n",
        "hash2 = lambda x: (2 * x + 5) % 13\n",
        "numbers = [8, 17, 25, 9, 20]\n",
        "\n",
        "for num in numbers:\n",
        " index1 = hash1(num)\n",
        " index2 = hash2(num)\n",
        " bloom_filter[index1] = 1\n",
        " bloom_filter[index2] = 1\n",
        "\n",
        "data = {'Number': numbers, 'Hash1': [hash1(x) for x in numbers], 'Hash2': [hash2(x) for x in numbers]}\n",
        "print(pd.DataFrame(data))\n",
        "print(\"\\nBloom filter values:\", bloom_filter)\n",
        "\n",
        "check_num = 7\n",
        "check1 = hash1(check_num)\n",
        "check2 = hash2(check_num)\n",
        "print(f\"\\nCheck for new number {check_num}.\")\n",
        "\n",
        "if bloom_filter[check1] == 1 and bloom_filter[check2] == 1:\n",
        " print(f\"Result: {check_num} might be in the set (Possible False Positive)\")\n",
        "else:\n",
        " print(f\"Result: {check_num} is definitely not in the set\")\n",
        "\n",
        "print(f\"Hash values of new number are hash1 = {check1} and hash2 = {check2}.\")"
      ],
      "metadata": {
        "colab": {
          "base_uri": "https://localhost:8080/"
        },
        "id": "6cTRzpWG-Wtl",
        "outputId": "5d49d030-8363-4e1a-8fe4-a02571a82a3b"
      },
      "execution_count": null,
      "outputs": [
        {
          "output_type": "stream",
          "name": "stdout",
          "text": [
            "   Number  Hash1  Hash2\n",
            "0       8      9      8\n",
            "1      17      5      0\n",
            "2      25      0      3\n",
            "3       9     10     10\n",
            "4      20      8      6\n",
            "\n",
            "Bloom filter values: [1, 0, 0, 1, 0, 1, 1, 0, 1, 1, 1, 0, 0]\n",
            "\n",
            "Check for new number 7.\n",
            "Result: 7 might be in the set (Possible False Positive)\n",
            "Hash values of new number are hash1 = 8 and hash2 = 6.\n"
          ]
        }
      ]
    },
    {
      "cell_type": "markdown",
      "source": [
        "# FJM"
      ],
      "metadata": {
        "id": "Yk2yIVk87dKf"
      }
    },
    {
      "cell_type": "code",
      "source": [
        "import pandas as pd\n",
        "\n",
        "hash1 = lambda x: (3 * x + 1) % 5\n",
        "hash2 = lambda x: (x + 3) % 5\n",
        "numbers = [1,3,2,1,2,3,4,3,1]\n",
        "\n",
        "def dec_to_binary(x):\n",
        "  return format(x, 'b').zfill(2)\n",
        "\n",
        "def CountTrailingZeros(n):\n",
        "    bit = bin(n)[2:]\n",
        "    bit = bit[::-1]\n",
        "    zero = 0;\n",
        "    for i in range(len(bit)):\n",
        "        if (bit[i] == '0'):\n",
        "            zero += 1\n",
        "        else:\n",
        "            break\n",
        "    return zero\n",
        "\n",
        "df = {'Number': numbers, 'Hash1': [hash1(x) for x in numbers], 'Hash2': [hash2(x) for x in numbers]}\n",
        "df['Binary1'] = [dec_to_binary(x) for x in df['Hash1']]\n",
        "df['Binary2'] = [dec_to_binary(x) for x in df['Hash2']]\n",
        "df['r1'] = [CountTrailingZeros(int(x,2)) for x in df['Binary1']]\n",
        "df['r2'] = [CountTrailingZeros(int(x,2)) for x in df['Binary2']]\n",
        "print(pd.DataFrame(df))\n",
        "df['r1'] = pd.Series(df['r1'])\n",
        "df['r2'] = pd.Series(df['r2'])\n",
        "r1max = df['r1'].max()\n",
        "r2max = df['r2'].max()\n",
        "R = int((r1max + r2max) / 2)\n",
        "result = 2**R\n",
        "print(\"Maximum value of r1:\", r1max)\n",
        "print(\"Maximum value of r2:\", r2max)\n",
        "print(\"Average of max(r1) and max(r2): (R) = \", R)\n",
        "print(f\"Estimated number of distinct elements: 2^R = 2^{R} = {result}\")"
      ],
      "metadata": {
        "id": "2M8Paof9-nsb",
        "colab": {
          "base_uri": "https://localhost:8080/"
        },
        "outputId": "cd59cee4-13ac-450e-c17e-3616ea755698"
      },
      "execution_count": null,
      "outputs": [
        {
          "output_type": "stream",
          "name": "stdout",
          "text": [
            "   Number  Hash1  Hash2 Binary1 Binary2  r1  r2\n",
            "0       1      4      4     100     100   2   2\n",
            "1       3      0      1      00      01   1   0\n",
            "2       2      2      0      10      00   1   1\n",
            "3       1      4      4     100     100   2   2\n",
            "4       2      2      0      10      00   1   1\n",
            "5       3      0      1      00      01   1   0\n",
            "6       4      3      2      11      10   0   1\n",
            "7       3      0      1      00      01   1   0\n",
            "8       1      4      4     100     100   2   2\n",
            "Maximum value of r1: 2\n",
            "Maximum value of r2: 2\n",
            "Average of max(r1) and max(r2): (R) =  2\n",
            "Estimated number of distinct elements: 2^R = 2^2 = 4\n"
          ]
        }
      ]
    },
    {
      "cell_type": "markdown",
      "source": [
        "# AMS"
      ],
      "metadata": {
        "id": "57BA2VHl7e_d"
      }
    },
    {
      "cell_type": "code",
      "source": [
        "import pandas as pd\n",
        "\n",
        "stream = [1, 2, 7, 1, 4, 9, 4, 6, 1, 6, 4, 4, 5, 5, 5, 9, 8, 7, 2, 2, 4, 4, 1]\n",
        "x0 = 1\n",
        "x1 = 5\n",
        "x2 = 8\n",
        "n = len(stream)\n",
        "def count_occurrences(stream, pos):\n",
        "  element = stream[pos-1]\n",
        "  return sum(1 for elem in stream[pos-1:] if elem == element)\n",
        "\n",
        "data = {'x': [x0, x1, x2], 'x.el': [stream[x0-1], stream[x1-1], stream[x2-1]]}\n",
        "data['x.val'] = [count_occurrences(stream, x) for x in data['x']]\n",
        "data['n(2*x.val-1)'] = [n * (2 *val-1) for val in data['x.val']]\n",
        "average = sum(data['n(2*x.val-1)']) / len(data['n(2*x.val-1)'])\n",
        "print(pd.DataFrame(data))\n",
        "print(f\"\\nResult = {average}\")"
      ],
      "metadata": {
        "colab": {
          "base_uri": "https://localhost:8080/"
        },
        "id": "Y4R6H8gi5GTp",
        "outputId": "9151eca1-4fa1-4159-f96c-53f435a784cb"
      },
      "execution_count": null,
      "outputs": [
        {
          "output_type": "stream",
          "name": "stdout",
          "text": [
            "   x  x.el  x.val  n(2*x.val-1)\n",
            "0  1     1      4           161\n",
            "1  5     4      6           253\n",
            "2  8     6      2            69\n",
            "\n",
            "Result = 161.0\n"
          ]
        }
      ]
    }
  ]
}