{
  "nbformat": 4,
  "nbformat_minor": 0,
  "metadata": {
    "colab": {
      "provenance": []
    },
    "kernelspec": {
      "name": "python3",
      "display_name": "Python 3"
    },
    "language_info": {
      "name": "python"
    }
  },
  "cells": [
    {
      "cell_type": "code",
      "execution_count": null,
      "metadata": {
        "id": "h89IpmH_-QGk"
      },
      "outputs": [],
      "source": [
        "import pandas as pd\n",
        "import numpy as np\n",
        "import random\n",
        "\n",
        "def shinglewithoutsepr(doc, kval):\n",
        "    \"\"\"\n",
        "    Function to generate shingles without separator\n",
        "    \"\"\"\n",
        "    text = doc.lower().replace(\".\", \"\").replace(\",\", \"\").replace(\"!\", \"\").replace(\"?\", \"\").replace(\";\", \"\").replace(\":\", \"\")\n",
        "    shingles = [text[i:i+kval] for i in range(len(text)-kval+1)]\n",
        "    return shingles\n",
        "\n",
        "with open(\"1.txt\", \"r\") as file:\n",
        "    doc1 = file.read()\n",
        "print(\"Document 1:\")\n",
        "print(doc1)\n",
        "with open(\"2.txt\", \"r\") as file:\n",
        "    doc2 = file.read()\n",
        "print(\"Document 2:\")\n",
        "print(doc2)\n",
        "\n",
        "kval = 2\n",
        "shingle1 = shinglewithoutsepr(doc1, kval)\n",
        "shingle2 = shinglewithoutsepr(doc2, kval)\n",
        "all_shingles = list(set(shingle1 + shingle2))\n",
        "print(\"\\nShingle 1:\", shingle1)\n",
        "print(\"Shingle 2:\", shingle2)\n",
        "print(\"All shingles:\", all_shingles)\n",
        "\n",
        "df = pd.DataFrame(columns=[\"Shingle\", \"doc1\", \"doc2\"])\n",
        "df[\"Shingle\"] = all_shingles\n",
        "df.fillna(0, inplace=True)\n",
        "\n",
        "for i in range(len(shingle1)):\n",
        "    df.loc[df[\"Shingle\"] == shingle1[i], \"doc1\"] = 1\n",
        "for i in range(len(shingle2)):\n",
        "    df.loc[df[\"Shingle\"] == shingle2[i], \"doc2\"] = 1\n",
        "\n",
        "df[\"Hash1\"] = df.index.map(lambda x: (17 * int(x) + 5) % len(df))\n",
        "df[\"Hash2\"] = df.index.map(lambda x: (11 * int(x) + 3) % len(df))\n",
        "\n",
        "print(\"\\nDataFrame:\")\n",
        "print(df)"
      ]
    }
  ]
}