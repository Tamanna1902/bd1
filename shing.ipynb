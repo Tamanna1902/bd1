{
  "nbformat": 4,
  "nbformat_minor": 0,
  "metadata": {
    "colab": {
      "provenance": []
    },
    "kernelspec": {
      "name": "python3",
      "display_name": "Python 3"
    },
    "language_info": {
      "name": "python"
    }
  },
  "cells": [
    {
      "cell_type": "code",
      "execution_count": null,
      "metadata": {
        "id": "IXT9IwIOgq3z"
      },
      "outputs": [],
      "source": [
        "# text=input(\"Enter a string: \")\n",
        "# kval =int(input(\"Enter k-value: \"))\n",
        "text=\"hello\"\n",
        "kval=2\n",
        "def shinglewithsepr(text, kval):\n",
        "  shingles = []\n",
        "  tokens = text.split(\" \")\n",
        "  for i in range(0, len(tokens), kval):\n",
        "      shingle = tokens[i:i + kval]\n",
        "      shingles.append(shingle)\n",
        "  #print(\"Shingles using separator: \", shingles)\n",
        "  return shingles\n",
        "def shinglewithoutsepr(text, kval):\n",
        "  shingles = []\n",
        "  for i in range(len(text)-kval+1):\n",
        "      shingle = text[i:i + kval]\n",
        "      shingles.append(shingle)\n",
        "  #print(\"Shingles without using separator: \", shingles)\n",
        "  return shingles\n",
        "wordshingles = shinglewithsepr(text, kval)\n",
        "charshingles = shinglewithoutsepr(text, kval)"
      ]
    },
    {
      "cell_type": "code",
      "source": [
        "import pandas as pd\n",
        "import numpy as np\n",
        "import random\n",
        "# with open(\"1.txt\", \"r\") as file:\n",
        "#   doc1 = file.read()\n",
        "# print(doc1)\n",
        "# with open(\"2.txt\", \"r\") as file:\n",
        "#   doc2 = file.read()\n",
        "# print(doc2)\n",
        "doc1 = \"Today is Monday.\"\n",
        "doc2 = \"Today is a good day.\"\n",
        "doc3 = \"Good day.\"\n",
        "doc4 = \"Tomorrow will be a good day.\"\n",
        "kval =3\n",
        "shingle1 = shinglewithoutsepr(doc1, kval)\n",
        "shingle2 = shinglewithoutsepr(doc2, kval)\n",
        "shingle3 = shinglewithoutsepr(doc3, kval)\n",
        "shingle4 = shinglewithoutsepr(doc4, kval)\n",
        "all_shingles = list(set(shingle1 + shingle2+shingle3+shingle4))\n",
        "print(\"Shingle 1:\", shingle1)\n",
        "print(\"Shingle 2:\", shingle2)\n",
        "print(\"Shingle 3:\", shingle3)\n",
        "print(\"Shingle 4:\", shingle4)\n",
        "print(\"All shingles:\", all_shingles)\n",
        "df = pd.DataFrame(columns=[\"Shingle\", \"doc1\", \"doc2\",\"doc3\",\"doc4\"])\n",
        "df[\"Shingle\"] = all_shingles\n",
        "df.fillna(0, inplace=True)\n",
        "for i in range(len(shingle1)):\n",
        "    df.loc[df[\"Shingle\"] == shingle1[i], \"doc1\"] = 1\n",
        "for i in range(len(shingle2)):\n",
        "    df.loc[df[\"Shingle\"] == shingle2[i], \"doc2\"] = 1\n",
        "for i in range(len(shingle3)):\n",
        "    df.loc[df[\"Shingle\"] == shingle3[i], \"doc3\"] = 1\n",
        "for i in range(len(shingle4)):\n",
        "    df.loc[df[\"Shingle\"] == shingle4[i], \"doc4\"] = 1\n",
        "df[\"Hash1\"] = df.index.map(lambda x: (17 * int(x) + 11) % len(df))\n",
        "df[\"Hash2\"] = df.index.map(lambda x: (7 * int(x) + 11) % len(df))\n",
        "print(len(df))\n",
        "print(df)"
      ],
      "metadata": {
        "colab": {
          "base_uri": "https://localhost:8080/"
        },
        "id": "OCjfbKBpn1pT",
        "outputId": "a5431390-e597-406f-c97a-7e84018c97b1"
      },
      "execution_count": null,
      "outputs": [
        {
          "output_type": "stream",
          "name": "stdout",
          "text": [
            "Shingle 1: ['Tod', 'oda', 'day', 'ay ', 'y i', ' is', 'is ', 's M', ' Mo', 'Mon', 'ond', 'nda', 'day', 'ay.']\n",
            "Shingle 2: ['Tod', 'oda', 'day', 'ay ', 'y i', ' is', 'is ', 's a', ' a ', 'a g', ' go', 'goo', 'ood', 'od ', 'd d', ' da', 'day', 'ay.']\n",
            "Shingle 3: ['Goo', 'ood', 'od ', 'd d', ' da', 'day', 'ay.']\n",
            "Shingle 4: ['Tom', 'omo', 'mor', 'orr', 'rro', 'row', 'ow ', 'w w', ' wi', 'wil', 'ill', 'll ', 'l b', ' be', 'be ', 'e a', ' a ', 'a g', ' go', 'goo', 'ood', 'od ', 'd d', ' da', 'day', 'ay.']\n",
            "All shingles: ['od ', ' be', ' Mo', 'Tom', 'ood', 'oda', 'll ', 'w w', 'omo', 'ay ', 'Mon', 'Goo', 'rro', 'y i', ' is', ' go', 'd d', 'ow ', 'a g', 's a', 'goo', 'be ', 's M', 'nda', ' da', 'row', 'e a', 'is ', 'ay.', 'mor', 'Tod', 'day', 'ond', 'ill', 'orr', 'wil', 'l b', ' wi', ' a ']\n",
            "39\n",
            "   Shingle  doc1  doc2  doc3  doc4  Hash1  Hash2\n",
            "0      od      0     1     1     1     11     11\n",
            "1       be     0     0     0     1     28     18\n",
            "2       Mo     1     0     0     0      6     25\n",
            "3      Tom     0     0     0     1     23     32\n",
            "4      ood     0     1     1     1      1      0\n",
            "5      oda     1     1     0     0     18      7\n",
            "6      ll      0     0     0     1     35     14\n",
            "7      w w     0     0     0     1     13     21\n",
            "8      omo     0     0     0     1     30     28\n",
            "9      ay      1     1     0     0      8     35\n",
            "10     Mon     1     0     0     0     25      3\n",
            "11     Goo     0     0     1     0      3     10\n",
            "12     rro     0     0     0     1     20     17\n",
            "13     y i     1     1     0     0     37     24\n",
            "14      is     1     1     0     0     15     31\n",
            "15      go     0     1     0     1     32     38\n",
            "16     d d     0     1     1     1     10      6\n",
            "17     ow      0     0     0     1     27     13\n",
            "18     a g     0     1     0     1      5     20\n",
            "19     s a     0     1     0     0     22     27\n",
            "20     goo     0     1     0     1      0     34\n",
            "21     be      0     0     0     1     17      2\n",
            "22     s M     1     0     0     0     34      9\n",
            "23     nda     1     0     0     0     12     16\n",
            "24      da     0     1     1     1     29     23\n",
            "25     row     0     0     0     1      7     30\n",
            "26     e a     0     0     0     1     24     37\n",
            "27     is      1     1     0     0      2      5\n",
            "28     ay.     1     1     1     1     19     12\n",
            "29     mor     0     0     0     1     36     19\n",
            "30     Tod     1     1     0     0     14     26\n",
            "31     day     1     1     1     1     31     33\n",
            "32     ond     1     0     0     0      9      1\n",
            "33     ill     0     0     0     1     26      8\n",
            "34     orr     0     0     0     1      4     15\n",
            "35     wil     0     0     0     1     21     22\n",
            "36     l b     0     0     0     1     38     29\n",
            "37      wi     0     0     0     1     16     36\n",
            "38      a      0     1     0     1     33      4\n"
          ]
        }
      ]
    },
    {
      "cell_type": "code",
      "source": [
        "sig = np.full((2,4), np.inf)\n",
        "for index, row in df.iterrows():\n",
        "   if row[\"doc1\"] == 1:\n",
        "       sig[0, 0] = min(sig[0, 0], row[\"Hash1\"])\n",
        "       sig[1, 0] = min(sig[1, 0], row[\"Hash2\"])\n",
        "   if row[\"doc2\"] == 1:\n",
        "       sig[0, 1] = min(sig[0, 1], row[\"Hash1\"])\n",
        "       sig[1, 1] = min(sig[1, 1], row[\"Hash2\"])\n",
        "   if row[\"doc3\"] == 1:\n",
        "       sig[0, 2] = min(sig[0, 2], row[\"Hash1\"])\n",
        "       sig[1, 2] = min(sig[1, 2], row[\"Hash2\"])\n",
        "   if row[\"doc4\"] == 1:\n",
        "       sig[0, 3] = min(sig[0, 3], row[\"Hash1\"])\n",
        "       sig[1, 3] = min(sig[1, 3], row[\"Hash2\"])\n",
        "print(\"Signature matrix =\\n\",sig)"
      ],
      "metadata": {
        "id": "oGjp29xd_F7x",
        "colab": {
          "base_uri": "https://localhost:8080/"
        },
        "outputId": "a370b83e-52c6-42d0-dd4f-f5415136ae6d"
      },
      "execution_count": null,
      "outputs": [
        {
          "output_type": "stream",
          "name": "stdout",
          "text": [
            "Signature matrix =\n",
            " [[2. 0. 1. 0.]\n",
            " [1. 0. 0. 0.]]\n"
          ]
        }
      ]
    },
    {
      "cell_type": "code",
      "source": [
        "#jaccard_sim_hash1 = (sig.loc['hash1', 'doc1'] + sig.loc['hash1', 'doc2']) / len(df)\n",
        "#jaccard_sim_hash2 = (sig.loc['hash2', 'doc1'] + sig.loc['hash2', 'doc2']) / len(df)\n",
        "#print(f\"Jaccard Similarity (hash1): {jaccard_sim_hash1}\")\n",
        "#print(f\"Jaccard Similarity (hash2): {jaccard_sim_hash2}\")"
      ],
      "metadata": {
        "id": "JHgxCuFWk2qv"
      },
      "execution_count": null,
      "outputs": []
    },
    {
      "cell_type": "code",
      "source": [
        "# sig = pd.DataFrame(index=['Hash1', 'Hash2'], columns=['doc1', 'doc2'])\n",
        "# sig.update(df[['Hash1', 'Hash2']].where(df['doc1'] == 1, other=float('inf')))\n",
        "# sig.update(df[['Hash1', 'Hash2']].where(df['doc2'] == 1, other=float('inf')))\n",
        "# print(sig)"
      ],
      "metadata": {
        "id": "r7qmJgvAmdNW"
      },
      "execution_count": null,
      "outputs": []
    }
  ]
}